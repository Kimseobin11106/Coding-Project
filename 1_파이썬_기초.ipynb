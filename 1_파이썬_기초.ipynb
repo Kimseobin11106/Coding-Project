{
  "cells": [
    {
      "cell_type": "markdown",
      "metadata": {
        "id": "view-in-github",
        "colab_type": "text"
      },
      "source": [
        "<a href=\"https://colab.research.google.com/github/Kimseobin11106/Coding-Project/blob/master/1_%ED%8C%8C%EC%9D%B4%EC%8D%AC_%EA%B8%B0%EC%B4%88.ipynb\" target=\"_parent\"><img src=\"https://colab.research.google.com/assets/colab-badge.svg\" alt=\"Open In Colab\"/></a>"
      ]
    },
    {
      "cell_type": "markdown",
      "metadata": {
        "id": "FDj7fiX4tD2U"
      },
      "source": [
        "파이썬은 띄어쓰기 조심!\n",
        "print문장 화면에 출력해주는 명령어다"
      ]
    },
    {
      "cell_type": "code",
      "source": [
        "import random\n",
        "가위, 바위, 보 = 1, 2, 3\n",
        "a = random.randint(1, 3)\n",
        "for k in range(True):\n",
        "    print('가위바위보')\n",
        "    b = int(input())\n",
        "    if a == 1 and b == 1:\n",
        "        print('비겼습니다!')\n",
        "    elif a == 1 and b == 2:\n",
        "        print('이겼습니다!')\n",
        "        break\n",
        "    elif a == 1 and b == 3:\n",
        "        print('졌습니다!')\n",
        "    elif a == 2 and b ==1:\n",
        "        print('이겼습니다!')\n",
        "        break\n",
        "    elif a == 2 and b ==2:\n",
        "        print('비겼습니다!')\n",
        "    elif a == 2 and b ==3:\n",
        "        print('졌습니다!')\n",
        "    elif a == 3 and b ==1:\n",
        "        print('졌습니다!')\n",
        "    elif a == 3 and b ==2:\n",
        "        print('이겼습니다!')\n",
        "        break\n",
        "    elif a == 3 and b ==3:\n",
        "        print('비겼습니다!')"
      ],
      "metadata": {
        "colab": {
          "base_uri": "https://localhost:8080/"
        },
        "id": "rtI7SJ7qulfT",
        "outputId": "597444fb-e02b-426a-db19-291fbeccdeff"
      },
      "execution_count": null,
      "outputs": [
        {
          "output_type": "stream",
          "name": "stdout",
          "text": [
            "가위바위보\n",
            "1\n",
            "졌습니다!\n"
          ]
        }
      ]
    },
    {
      "cell_type": "code",
      "execution_count": null,
      "metadata": {
        "colab": {
          "base_uri": "https://localhost:8080/"
        },
        "id": "UpxwkRhCr6QN",
        "outputId": "cd7eb486-71ed-4204-e4e6-337c3d14a725"
      },
      "outputs": [
        {
          "name": "stdout",
          "output_type": "stream",
          "text": [
            "와 너무 쉽다\n"
          ]
        }
      ],
      "source": [
        "easy = '와 너무 쉽다'\n",
        "print(easy)\n"
      ]
    },
    {
      "cell_type": "markdown",
      "metadata": {
        "id": "SkQRTobIu2Dy"
      },
      "source": [
        "파이썬에서 변수만들기는 쉬움. 그냥 약속되지 않은 이름을 사용하면 된다!"
      ]
    },
    {
      "cell_type": "code",
      "execution_count": null,
      "metadata": {
        "colab": {
          "base_uri": "https://localhost:8080/"
        },
        "id": "Rnu7z2vltVhh",
        "outputId": "3cf56cfa-2b83-4eb7-fd67-07ec979c583f"
      },
      "outputs": [
        {
          "name": "stdout",
          "output_type": "stream",
          "text": [
            "안녕하세요 난 김서빈 이고 17 살이야\n"
          ]
        }
      ],
      "source": [
        "name = '김서빈'\n",
        "age = 17\n",
        "print('안녕하세요 난', name , '이고', age ,'살이야')"
      ]
    },
    {
      "cell_type": "code",
      "execution_count": null,
      "metadata": {
        "colab": {
          "base_uri": "https://localhost:8080/"
        },
        "id": "1VG09cEy_0RK",
        "outputId": "15d52fbb-b68b-41d3-de29-82a5c932ea33"
      },
      "outputs": [
        {
          "name": "stdout",
          "output_type": "stream",
          "text": [
            "2\n"
          ]
        }
      ],
      "source": [
        "a = 5 \n",
        "b = 3\n",
        "print(a%b)"
      ]
    },
    {
      "cell_type": "code",
      "execution_count": null,
      "metadata": {
        "colab": {
          "base_uri": "https://localhost:8080/"
        },
        "id": "E6v1hdO6AjpX",
        "outputId": "81639097-05cb-4541-ced7-da6939c259da"
      },
      "outputs": [
        {
          "name": "stdout",
          "output_type": "stream",
          "text": [
            "False\n"
          ]
        }
      ],
      "source": [
        "a = 5\n",
        "b = 3\n",
        "print(a == b)\n"
      ]
    },
    {
      "cell_type": "code",
      "execution_count": null,
      "metadata": {
        "colab": {
          "base_uri": "https://localhost:8080/"
        },
        "id": "i1wXwbK2C_5N",
        "outputId": "c8923305-4815-4ae9-80e4-81d164d559ee"
      },
      "outputs": [
        {
          "name": "stdout",
          "output_type": "stream",
          "text": [
            "2 5\n"
          ]
        }
      ],
      "source": [
        "a = 5 # 변수 활용 \n",
        "b = 2\n",
        "t = 2\n",
        "b = 5\n",
        "a = 2 \n",
        "print(a , b)"
      ]
    },
    {
      "cell_type": "code",
      "execution_count": null,
      "metadata": {
        "id": "413SWZV6DQM8"
      },
      "outputs": [],
      "source": []
    },
    {
      "cell_type": "code",
      "execution_count": null,
      "metadata": {
        "colab": {
          "base_uri": "https://localhost:8080/"
        },
        "id": "JMMeN9JvBFaP",
        "outputId": "bdb48c30-0bd3-4c49-c2e2-e1bef5f333c3"
      },
      "outputs": [
        {
          "name": "stdout",
          "output_type": "stream",
          "text": [
            "10 5.0\n"
          ]
        }
      ],
      "source": [
        "a = 5 \n",
        "b = 10  \n",
        "a = a+b-a \n",
        "b = a-b/2\n",
        "print(a,b)"
      ]
    },
    {
      "cell_type": "code",
      "execution_count": null,
      "metadata": {
        "colab": {
          "base_uri": "https://localhost:8080/"
        },
        "id": "szvV_9zQ9ljH",
        "outputId": "b678a760-da8e-4011-9ae1-ecacc8a2501e"
      },
      "outputs": [
        {
          "name": "stdout",
          "output_type": "stream",
          "text": [
            "o\n",
            "11\n",
            "5\n"
          ]
        }
      ],
      "source": [
        "str = 'hello world'\n",
        "print(str[4])\n",
        "print( len(str) )\n",
        "list =[1,2,3,4,5]\n",
        "print(len(list))"
      ]
    },
    {
      "cell_type": "code",
      "execution_count": null,
      "metadata": {
        "colab": {
          "base_uri": "https://localhost:8080/"
        },
        "id": "Pui9MH-O-5T3",
        "outputId": "a0829e31-0d66-4692-b37e-7baa0ff9ff3e"
      },
      "outputs": [
        {
          "name": "stdout",
          "output_type": "stream",
          "text": [
            "2\n",
            "반복중\n",
            "3\n",
            "반복중\n",
            "4\n",
            "반복중\n"
          ]
        }
      ],
      "source": [
        "# for 제한된 횟수 만큼 반복\n",
        "# k = 반복하면서 사용할 변수\n",
        "#rnage(범위) 0~범위-1 까지\n",
        "for k in range(2,5): # 2부터 5-1 까지\n",
        "#: 표시는 중괄호 시작이랑 같은 뜻\n",
        "# 안에 들여쓰기를 했음.\n",
        "  print(k)\n",
        "  print('반복중')"
      ]
    },
    {
      "cell_type": "code",
      "execution_count": null,
      "metadata": {
        "colab": {
          "base_uri": "https://localhost:8080/"
        },
        "id": "3a6fXe6DBZxZ",
        "outputId": "da3c3618-b145-4cc5-c21c-1a0871f9cfcc"
      },
      "outputs": [
        {
          "name": "stdout",
          "output_type": "stream",
          "text": [
            "[0, 2, 4, 6, 8, 10, 12, 14, 16, 18, 20, 22, 24, 26, 28, 30, 32, 34, 36, 38, 40, 42, 44, 46, 48, 50, 52, 54, 56, 58, 60, 62, 64, 66, 68, 70, 72, 74, 76, 78, 80, 82, 84, 86, 88, 90, 92, 94, 96, 98, 100, 102, 104, 106, 108, 110, 112, 114, 116, 118, 120, 122, 124, 126, 128, 130, 132, 134, 136, 138, 140, 142, 144, 146, 148, 150, 152, 154, 156, 158, 160, 162, 164, 166, 168, 170, 172, 174, 176, 178, 180, 182, 184, 186, 188, 190, 192, 194, 196, 198, 0, 2, 4, 6, 8, 10, 12, 14, 16, 18, 20, 22, 24, 26, 28, 30, 32, 34, 36, 38, 40, 42, 44, 46, 48, 50, 52, 54, 56, 58, 60, 62, 64, 66, 68, 70, 72, 74, 76, 78, 80, 82, 84, 86, 88, 90, 92, 94, 96, 98, 100, 102, 104, 106, 108, 110, 112, 114, 116, 118, 120, 122, 124, 126, 128, 130, 132, 134, 136, 138, 140, 142, 144, 146, 148, 150, 152, 154, 156, 158, 160, 162, 164, 166, 168, 170, 172, 174, 176, 178, 180, 182, 184, 186, 188, 190, 192, 194, 196, 198, 0, 2, 4, 6, 8, 10, 12, 14, 16, 18, 20, 22, 24, 26, 28, 30, 32, 34, 36, 38, 40, 42, 44, 46, 48, 50, 52, 54, 56, 58, 60, 62, 64, 66, 68, 70, 72, 74, 76, 78, 80, 82, 84, 86, 88, 90, 92, 94, 96, 98, 100, 102, 104, 106, 108, 110, 112, 114, 116, 118, 120, 122, 124, 126, 128, 130, 132, 134, 136, 138, 140, 142, 144, 146, 148, 150, 152, 154, 156, 158, 160, 162, 164, 166, 168, 170, 172, 174, 176, 178, 180, 182, 184, 186, 188, 190, 192, 194, 196, 198, 0, 2, 4, 6, 8, 10, 12, 14, 16, 18, 20, 22, 24, 26, 28, 30, 32, 34, 36, 38, 40, 42, 44, 46, 48, 50, 52, 54, 56, 58, 60, 62, 64, 66, 68, 70, 72, 74, 76, 78, 80, 82, 84, 86, 88, 90, 92, 94, 96, 98, 100, 102, 104, 106, 108, 110, 112, 114, 116, 118, 120, 122, 124, 126, 128, 130, 132, 134, 136, 138, 140, 142, 144, 146, 148, 150, 152, 154, 156, 158, 160, 162, 164, 166, 168, 170, 172, 174, 176, 178, 180, 182, 184, 186, 188, 190, 192, 194, 196, 198, 0, 1, 2, 3, 4, 5, 6, 7, 8, 9, 10, 11, 12, 13, 14, 15, 16, 17, 18, 19, 20, 21, 22, 23, 24, 25, 26, 27, 28, 29, 30, 31, 32, 33, 34, 35, 36, 37, 38, 39, 40, 41, 42, 43, 44, 45, 46, 47, 48, 49, 50, 51, 52, 53, 54, 55, 56, 57, 58, 59, 60, 61, 62, 63, 64, 65, 66, 67, 68, 69, 70, 71, 72, 73, 74, 75, 76, 77, 78, 79, 80, 81, 82, 83, 84, 85, 86, 87, 88, 89, 90, 91, 92, 93, 94, 95, 96, 97, 98, 99, 0, 2, 4, 6, 8, 10, 12, 14, 16, 18, 20, 22, 24, 26, 28, 30, 32, 34, 36, 38, 40, 42, 44, 46, 48, 50, 52, 54, 56, 58, 60, 62, 64, 66, 68, 70, 72, 74, 76, 78, 80, 82, 84, 86, 88, 90, 92, 94, 96, 98, 100, 102, 104, 106, 108, 110, 112, 114, 116, 118, 120, 122, 124, 126, 128, 130, 132, 134, 136, 138, 140, 142, 144, 146, 148, 150, 152, 154, 156, 158, 160, 162, 164, 166, 168, 170, 172, 174, 176, 178, 180, 182, 184, 186, 188, 190, 192, 194, 196, 198, 0, 2, 4, 6, 8, 10, 12, 14, 16, 18, 20, 22, 24, 26, 28, 30, 32, 34, 36, 38, 40, 42, 44, 46, 48, 50, 52, 54, 56, 58, 60, 62, 64, 66, 68, 70, 72, 74, 76, 78, 80, 82, 84, 86, 88, 90, 92, 94, 96, 98, 100, 102, 104, 106, 108, 110, 112, 114, 116, 118, 120, 122, 124, 126, 128, 130, 132, 134, 136, 138, 140, 142, 144, 146, 148, 150, 152, 154, 156, 158, 160, 162, 164, 166, 168, 170, 172, 174, 176, 178, 180, 182, 184, 186, 188, 190, 192, 194, 196, 198, 0, 2, 4, 6, 8, 10, 12, 14, 16, 18, 20, 22, 24, 26, 28, 30, 32, 34, 36, 38, 40, 42, 44, 46, 48, 50, 52, 54, 56, 58, 60, 62, 64, 66, 68, 70, 72, 74, 76, 78, 80, 82, 84, 86, 88, 90, 92, 94, 96, 98, 100, 102, 104, 106, 108, 110, 112, 114, 116, 118, 120, 122, 124, 126, 128, 130, 132, 134, 136, 138, 140, 142, 144, 146, 148, 150, 152, 154, 156, 158, 160, 162, 164, 166, 168, 170, 172, 174, 176, 178, 180, 182, 184, 186, 188, 190, 192, 194, 196, 198, 0, 2, 4, 6, 8, 10, 12, 14, 16, 18, 20, 22, 24, 26, 28, 30, 32, 34, 36, 38, 40, 42, 44, 46, 48, 50, 52, 54, 56, 58, 60, 62, 64, 66, 68, 70, 72, 74, 76, 78, 80, 82, 84, 86, 88, 90, 92, 94, 96, 98, 100, 102, 104, 106, 108, 110, 112, 114, 116, 118, 120, 122, 124, 126, 128, 130, 132, 134, 136, 138, 140, 142, 144, 146, 148, 150, 152, 154, 156, 158, 160, 162, 164, 166, 168, 170, 172, 174, 176, 178, 180, 182, 184, 186, 188, 190, 192, 194, 196, 198, 0, 2, 4, 6, 8, 10, 12, 14, 16, 18, 20, 22, 24, 26, 28, 30, 32, 34, 36, 38, 40, 42, 44, 46, 48, 50, 52, 54, 56, 58, 60, 62, 64, 66, 68, 70, 72, 74, 76, 78, 80, 82, 84, 86, 88, 90, 92, 94, 96, 98, 100, 102, 104, 106, 108, 110, 112, 114, 116, 118, 120, 122, 124, 126, 128, 130, 132, 134, 136, 138, 140, 142, 144, 146, 148, 150, 152, 154, 156, 158, 160, 162, 164, 166, 168, 170, 172, 174, 176, 178, 180, 182, 184, 186, 188, 190, 192, 194, 196, 198, 0, 2, 4, 6, 8, 10, 12, 14, 16, 18, 20, 22, 24, 26, 28, 30, 32, 34, 36, 38, 40, 42, 44, 46, 48, 50, 52, 54, 56, 58, 60, 62, 64, 66, 68, 70, 72, 74, 76, 78, 80, 82, 84, 86, 88, 90, 92, 94, 96, 98, 100, 102, 104, 106, 108, 110, 112, 114, 116, 118, 120, 122, 124, 126, 128, 130, 132, 134, 136, 138, 140, 142, 144, 146, 148, 150, 152, 154, 156, 158, 160, 162, 164, 166, 168, 170, 172, 174, 176, 178, 180, 182, 184, 186, 188, 190, 192, 194, 196, 198, 0, 2, 4, 6, 8, 10, 12, 14, 16, 18, 20, 22, 24, 26, 28, 30, 32, 34, 36, 38, 40, 42, 44, 46, 48, 50, 52, 54, 56, 58, 60, 62, 64, 66, 68, 70, 72, 74, 76, 78, 80, 82, 84, 86, 88, 90, 92, 94, 96, 98, 100, 102, 104, 106, 108, 110, 112, 114, 116, 118, 120, 122, 124, 126, 128, 130, 132, 134, 136, 138, 140, 142, 144, 146, 148, 150, 152, 154, 156, 158, 160, 162, 164, 166, 168, 170, 172, 174, 176, 178, 180, 182, 184, 186, 188, 190, 192, 194, 196, 198, 0, 2, 4, 6, 8, 10, 12, 14, 16, 18, 20, 22, 24, 26, 28, 30, 32, 34, 36, 38, 40, 42, 44, 46, 48, 50, 52, 54, 56, 58, 60, 62, 64, 66, 68, 70, 72, 74, 76, 78, 80, 82, 84, 86, 88, 90, 92, 94, 96, 98, 100, 102, 104, 106, 108, 110, 112, 114, 116, 118, 120, 122, 124, 126, 128, 130, 132, 134, 136, 138, 140, 142, 144, 146, 148, 150, 152, 154, 156, 158, 160, 162, 164, 166, 168, 170, 172, 174, 176, 178, 180, 182, 184, 186, 188, 190, 192, 194, 196, 198, 0, 2, 4, 6, 8, 10, 12, 14, 16, 18, 20, 22, 24, 26, 28, 30, 32, 34, 36, 38, 40, 42, 44, 46, 48, 50, 52, 54, 56, 58, 60, 62, 64, 66, 68, 70, 72, 74, 76, 78, 80, 82, 84, 86, 88, 90, 92, 94, 96, 98, 100, 102, 104, 106, 108, 110, 112, 114, 116, 118, 120, 122, 124, 126, 128, 130, 132, 134, 136, 138, 140, 142, 144, 146, 148, 150, 152, 154, 156, 158, 160, 162, 164, 166, 168, 170, 172, 174, 176, 178, 180, 182, 184, 186, 188, 190, 192, 194, 196, 198]\n"
          ]
        }
      ],
      "source": [
        "# 100개의 리스트 배열을 만들고 [0,2,4,6 ...] 순서로 값을 초기화\n",
        "# 배열의 항목을 추가하는 명령어 append\n",
        "for k in range(100):\n",
        "  list.append(k*2)\n",
        "print(list)\n",
        "# 또 다른 방법 \n",
        "# for k in range(0 , 200 , 2) = for k in range(i=0 i < 200 , i = i+2)\n",
        "# list.append(k)\n",
        "# print(list)\n",
        "randi\n",
        "  \n",
        "  "
      ]
    },
    {
      "cell_type": "code",
      "execution_count": null,
      "metadata": {
        "colab": {
          "base_uri": "https://localhost:8080/"
        },
        "id": "uPuZN6kiepJm",
        "outputId": "4691909b-e0db-4036-fd87-6de5894ff845"
      },
      "outputs": [
        {
          "name": "stdout",
          "output_type": "stream",
          "text": [
            "숫자를 입력하세요3\n",
            "333\n",
            "9\n"
          ]
        }
      ],
      "source": [
        "#입력하는 단의 구구단 출력\n",
        "#예) 3입력=> 3*1=3 . . . . . 3*9 = 27\n",
        "n = input('숫자를 입력하세요')\n",
        "print(n*3) #input으로 받은 값은 문자로 처리됨 = \"n의 문장을 3번 반복하라.\"\n",
        "k = int(n) #int 타입 = 정수값으로 변경\n",
        "print(k*3)\n",
        "# ====>> n = int(input('숫자입력')) \n",
        "\n"
      ]
    },
    {
      "cell_type": "code",
      "execution_count": null,
      "metadata": {
        "colab": {
          "base_uri": "https://localhost:8080/"
        },
        "id": "tKz0RqoMh8OR",
        "outputId": "5fc74e85-53a4-43e2-cea5-7690d97e943c"
      },
      "outputs": [
        {
          "name": "stdout",
          "output_type": "stream",
          "text": [
            "숫자를 입력하세요3\n",
            "3 * 1 = 3\n",
            "3 * 2 = 6\n",
            "3 * 3 = 9\n",
            "3 * 4 = 12\n",
            "3 * 5 = 15\n",
            "3 * 6 = 18\n",
            "3 * 7 = 21\n",
            "3 * 8 = 24\n",
            "3 * 9 = 27\n",
            "3 * 2 = 6\n",
            "3 * 3 = 9\n",
            "3 * 4 = 12\n",
            "3 * 5 = 15\n",
            "3 * 6 = 18\n",
            "3 * 7 = 21\n",
            "3 * 8 = 24\n"
          ]
        }
      ],
      "source": [
        "#입력하는 단의 구구단 만들기 / 받은 숫자를 가지고 구구단을 만들어라\n",
        "\n",
        "n = int(input('숫자를 입력하세요')) # 내가 원하는 숫자 입력\n",
        "\n",
        "#3 * 1 = 3\n",
        "print(f'{n} * 1 = {n*1}') # {}는 안에 있는 변수의 값을 출력\n",
        "print(f'{n} * 2 = {n*2}')\n",
        "print(f'{n} * 3 = {n*3}')\n",
        "print(f'{n} * 4 = {n*4}')\n",
        "print(f'{n} * 5 = {n*5}')\n",
        "print(f'{n} * 6 = {n*6}')\n",
        "print(f'{n} * 7 = {n*7}')\n",
        "print(f'{n} * 8 = {n*8}')\n",
        "print(f'{n} * 9 = {n*9}')\n",
        "for i in range(1, 10): #1~10 전까지 =1~9 # 콜론 : 붙이도록 하기 \n",
        "  print(f'{n} * {i} = {n*i}')"
      ]
    },
    {
      "cell_type": "code",
      "execution_count": null,
      "metadata": {
        "colab": {
          "base_uri": "https://localhost:8080/",
          "height": 137
        },
        "id": "hXwAyaPXnR4a",
        "outputId": "333d479f-00af-4ae6-8fb3-445e154ac1c6"
      },
      "outputs": [
        {
          "ename": "IndentationError",
          "evalue": "ignored",
          "output_type": "error",
          "traceback": [
            "\u001b[0;36m  File \u001b[0;32m\"<ipython-input-1-208f4a78fa83>\"\u001b[0;36m, line \u001b[0;32m20\u001b[0m\n\u001b[0;31m    if i == 6 :\u001b[0m\n\u001b[0m    ^\u001b[0m\n\u001b[0;31mIndentationError\u001b[0m\u001b[0;31m:\u001b[0m expected an indented block\n"
          ]
        }
      ],
      "source": [
        "# 3 6 9 \n",
        "# 1~ 입력수 n 까지 369게임 ( n = 2~9)\n",
        "# 3,6,9 에는 대문자 X를 출력\n",
        "#그리고 숫자마다 공백\n",
        "\n",
        "# 0. 사용자 입력을 숫자로 받기\n",
        "# 1. 1부터 입력수 까지 출력 ==> for 문 필요\n",
        "# 2. 3,6,9 인지 판ㄷ나 하여 X로 변환\n",
        "n = int(input('숫자 입력'))\n",
        "for i in range(1 ,n+1):\n",
        "  #1부터 n 까지 나옴\n",
        "  #if 조건 : => 참인지 검사\n",
        "  # 참이라면 수행할 내용\n",
        "  #if k 가 3이랑 같은가\n",
        "  if i == 3:\n",
        "  #들여쓰기 조심\n",
        "   print('X')\n",
        "  else: #그 밖에 if와 같이 사용됨. if는 혼자 사용 가능하지만, else 는 혼자 사용 불가 \n",
        "  #들여쓰기 조심 \n",
        "  if i == 6:\n",
        "   print('X')\n",
        "  else:\n",
        "  if i == 9:\n",
        "     print('X')\n",
        "  else:\n",
        "      print(i)\n",
        "\n"
      ]
    },
    {
      "cell_type": "code",
      "execution_count": null,
      "metadata": {
        "colab": {
          "base_uri": "https://localhost:8080/"
        },
        "id": "98qwSEeCx8Vz",
        "outputId": "7fb41b11-7ea1-4fce-9b4b-09a7b26355d9"
      },
      "outputs": [
        {
          "name": "stdout",
          "output_type": "stream",
          "text": [
            "숫자9\n",
            "1\n",
            "2\n",
            "X\n",
            "4\n",
            "5\n",
            "X\n",
            "7\n",
            "8\n",
            "X\n"
          ]
        }
      ],
      "source": [
        " # or 연산자 , and 연산자 => or 연산자\n",
        " n = int(input('숫자'))\n",
        " \n",
        "for i in range(1, n+1):\n",
        "  #만약 3으로 나누어 떨어지는가 == 나머지가 0인가\n",
        "  # % = 나머지 연산자 => 10 % 3 = 1\n",
        "  if i % 3 == 0: # 3,6,9\n",
        "    print('X')\n",
        "  else:\n",
        "    print(i)\n"
      ]
    },
    {
      "cell_type": "code",
      "execution_count": null,
      "metadata": {
        "colab": {
          "base_uri": "https://localhost:8080/"
        },
        "id": "veQYgGo9zcPD",
        "outputId": "3dc32450-88a7-4aca-cc24-e46797c4b47b"
      },
      "outputs": [
        {
          "name": "stdout",
          "output_type": "stream",
          "text": [
            "숫자9\n",
            "1 2 X 4 5 X 7 8 X "
          ]
        }
      ],
      "source": [
        " n = int(input('숫자'))\n",
        " \n",
        "for i in range(1, n+1):\n",
        "  \n",
        "  if i == 3 or i == 6 or i == 9:\n",
        "    print('X' , end = ' ') # end = ' '가로로 출력\n",
        "  else:\n",
        "    print(i , end = ' ')\n"
      ]
    },
    {
      "cell_type": "code",
      "execution_count": null,
      "metadata": {
        "colab": {
          "base_uri": "https://localhost:8080/"
        },
        "id": "zX8KVITYCfdw",
        "outputId": "ce42e0c1-d01c-44f1-a385-2ab201b847fe"
      },
      "outputs": [
        {
          "name": "stdout",
          "output_type": "stream",
          "text": [
            "입니다.\n"
          ]
        }
      ],
      "source": [
        "# if 문 복습 for 문과 연계\n",
        "#if =  조건 검사 = 만약 조건이 참이면 수행할 내용 작성\n",
        "\n",
        "a = 15\n",
        "#a가 5보다 크다면 \"큰수\" 출력\n",
        "if a > 5:\n",
        "  print('큰수')\n",
        "  print('입니다.')\n",
        "     # 콜론 표시의 주의 -\n",
        "#콜론 다음에는 현재보다 들여쓰기 (탭)\n",
        "\n",
        "\n",
        "### 차이점 \n",
        "if a > 5:\n",
        "  print('큰수') \n",
        "print('입니다.') #들여쓰기 사용 안한 것 -> if 와 관계없이 그냥 출력 됨\n",
        "\n",
        "if a > 5:\n",
        "  print('큰수')\n",
        "else: #else = '그 밖에' 참이 아닌 경우는 전부 이쪽으로 오게됨. \n",
        "  print('작은수')\n",
        "  "
      ]
    },
    {
      "cell_type": "code",
      "execution_count": null,
      "metadata": {
        "colab": {
          "background_save": true,
          "base_uri": "https://localhost:8080/"
        },
        "id": "cU_pRPTKFi9N",
        "outputId": "61112b40-cf92-4efd-838d-580609a1cb88"
      },
      "outputs": [
        {
          "name": "stdout",
          "output_type": "stream",
          "text": [
            "정답입니다!\n"
          ]
        }
      ],
      "source": [
        "#내가 생각한 숫자 맞추기 기회 10번동안 숫자를 맞춤\n",
        "# 10번의 기회 => 10번동안 입력을 받아야겠음\n",
        "#10번동안 => 10번 반복 => for 문 필요\n",
        "#입력받은 infut() 필요\n",
        "# 내가 입력한 숫자가 맞는지 검사(만약 일치하나???) => if문 필요\n",
        "# 10번 반복할 동안 검사를 매번 수행 => for문 안에서 입력도 받고 , 검사도 하고\n",
        "ans = 15 #정답\n",
        "for i in range(10):\n",
        "  num = int(input()) #입력 문자를 숫자로 변환\n",
        "  # ans랑 num 이랑 같은가\n",
        "  if ans == num:\n",
        "    print('정답입니다!')\n",
        "  else: \n",
        "    print('오답입니다!')\n",
        "  "
      ]
    },
    {
      "cell_type": "code",
      "execution_count": null,
      "metadata": {
        "colab": {
          "base_uri": "https://localhost:8080/"
        },
        "id": "hUHbu5pOI7vT",
        "outputId": "8a448da0-3a46-422d-89da-1b5987eecc27"
      },
      "outputs": [
        {
          "name": "stdout",
          "output_type": "stream",
          "text": [
            "19\n",
            "UP\n",
            "29\n",
            "UP\n",
            "60\n",
            "UP\n",
            "89\n",
            "DOWN\n",
            "78\n",
            "DOWN\n",
            "68\n",
            "DOWN\n",
            "64\n",
            "DOWN\n",
            "62\n",
            "정답입니다!\n"
          ]
        }
      ],
      "source": [
        "import random #랜덤 변수를 사용할때 import random 을 사용 후 실행 하기\n",
        "ans = random.randint(1 , 100) #정답 \n",
        "for i in range(10):\n",
        "  num = int(input()) #입력 문자를 숫자로 변환\n",
        "  # ans랑 num 이랑 같은가\n",
        "  if ans == num:\n",
        "    print('정답입니다!')\n",
        "    #빠져나가기 => 파이썬에서 반복문 빠져나가기\n",
        "    break # 반복 중단\n",
        "  #else 아래에 if를 또 쓰자니 번거러움..\n",
        "  elif ans > num:\n",
        "    print('UP')\n",
        "  else:\n",
        "    print('DOWN')\n",
        "    "
      ]
    },
    {
      "cell_type": "code",
      "execution_count": null,
      "metadata": {
        "id": "oEHbRVRhE10z",
        "colab": {
          "base_uri": "https://localhost:8080/"
        },
        "outputId": "4acb9dca-45c6-4781-cf98-63eadac3207a"
      },
      "outputs": [
        {
          "output_type": "stream",
          "name": "stdout",
          "text": [
            "30\n",
            "2\n"
          ]
        }
      ],
      "source": [
        "n = int(input()) #int 값 정수로 들어가서 \n",
        "\n",
        "sum = 0   #0으로 변수 구하기 \n",
        "for k in range(1, n+1):\n",
        "    if k%2 == sum:\n",
        "        sum = sum+k\n",
        "print(sum)"
      ]
    },
    {
      "cell_type": "markdown",
      "source": [
        "수행평가 총 3번 \n",
        "1,2 논술 = > 교과서 그 주 화요일-설명 -> 목요일 수행\n",
        "3 수행 => 파이썬 (코드 출력, 작성)\n",
        "\n",
        "2차 지필 기말 시험 2주 공부 후 시험\n",
        "\n",
        "16 - 4주 = 12주 파이썬 공부 \n"
      ],
      "metadata": {
        "id": "N1Jzzzjli9Kp"
      }
    },
    {
      "cell_type": "code",
      "source": [
        "#숫자를 입력받기 기능 => n 이라고 하자 \n",
        "#1부터 n까지 반복 => for \n",
        "#반복하면서 나오는 숫자가 짝수 인지 검사 %2 ==== 0\n",
        "#합 구하기 => 합을 보관하는 변수 sum을 만들자\n",
        "#sum변수를 누적해서 저장하자\n",
        "import random \n",
        "n = random.randint(1 , 100) \n",
        "sum = 0\n",
        "for i in range(1 , n+1): \n",
        "  if i%2 == 0:\n",
        "    sum = sum+i\n",
        "print(sum)"
      ],
      "metadata": {
        "id": "HD5y4gGTImrK",
        "colab": {
          "base_uri": "https://localhost:8080/"
        },
        "outputId": "3f325ac1-2e0d-4614-8395-211b461a1c24"
      },
      "execution_count": null,
      "outputs": [
        {
          "output_type": "stream",
          "name": "stdout",
          "text": [
            "2070\n"
          ]
        }
      ]
    },
    {
      "cell_type": "code",
      "source": [
        "# 위 코드와 성일 1078 문제 정답\n",
        "n = int(input())\n",
        "sum = 0 \n",
        "for i in range(1 , n+1): #i가 1~n까지 값이 들어옴\n",
        "    if i%2 == 0: \n",
        "    #sum에다 i를 누적 => 누적한다는 것은 현재sum에 i를 추가=>sum에 보관\n",
        "      sum = sum+i\n",
        "print(sum)\n",
        "\n",
        "\n",
        "  \n"
      ],
      "metadata": {
        "colab": {
          "base_uri": "https://localhost:8080/"
        },
        "id": "n-qx9qQ3nv_N",
        "outputId": "93589e41-efac-4137-ff17-19a6d8918cb1"
      },
      "execution_count": null,
      "outputs": [
        {
          "output_type": "stream",
          "name": "stdout",
          "text": [
            "30\n",
            "240\n"
          ]
        }
      ]
    },
    {
      "cell_type": "code",
      "source": [
        "n = int(input('number?'))\n",
        "sum = 0 \n",
        "\n",
        "for k in range(2, n+1 , 2):\n",
        "  sum = sum+k \n",
        "print(sum)"
      ],
      "metadata": {
        "colab": {
          "base_uri": "https://localhost:8080/"
        },
        "id": "QzC-VsLfqKMw",
        "outputId": "7994c4cb-679a-4826-ace6-1131d27019a5"
      },
      "execution_count": null,
      "outputs": [
        {
          "output_type": "stream",
          "name": "stdout",
          "text": [
            "number?30\n",
            "240\n"
          ]
        }
      ]
    },
    {
      "cell_type": "code",
      "source": [
        "n = int(input())\n",
        "sum = 0\n",
        "for i in range(1, n+1):\n",
        "  if i%2 == 0:\n",
        "    sum = sum+i\n",
        "print(sum)"
      ],
      "metadata": {
        "colab": {
          "base_uri": "https://localhost:8080/"
        },
        "id": "iMem-JgFvPC5",
        "outputId": "2bc0e81d-f09f-4d8a-a501-8a8dcba5f00d"
      },
      "execution_count": null,
      "outputs": [
        {
          "output_type": "stream",
          "name": "stdout",
          "text": [
            "30\n",
            "240\n"
          ]
        }
      ]
    },
    {
      "cell_type": "code",
      "source": [
        "# 가위=1 바위=2 보=3 게임\n",
        "me = int(input('나는 뭐 낼래? 가위1 바위2 보3'))\n",
        "com = int(input('컴퓨터는 뭐 낼래? 가위1 바위2 보3'))\n",
        "if me == com:\n",
        "  print('비김')\n",
        "#내가 이기는 경우\n",
        "#나 1 - 3 컴\n",
        "#나 2 - 1 컴\n",
        "#나 3 - 2 컴\n",
        "\n",
        "elif (me == 1 and com == 3) or (me == 2 and com == 1) or (me == 3 and com == 2): # (me-com) % 3 == 1:\n",
        "  print('이기심')\n",
        "else:\n",
        "  print('지심')"
      ],
      "metadata": {
        "colab": {
          "base_uri": "https://localhost:8080/"
        },
        "id": "B2oCN4C4vS9D",
        "outputId": "101b3304-5fd5-47ac-fd57-5e2460c30f66"
      },
      "execution_count": null,
      "outputs": [
        {
          "output_type": "stream",
          "name": "stdout",
          "text": [
            "나는 뭐 낼래? 가위1 바위2 보33\n",
            "컴퓨터는 뭐 낼래? 가위1 바위2 보32\n",
            "이기심\n"
          ]
        }
      ]
    },
    {
      "cell_type": "code",
      "source": [
        "# if문 1이 입력되면 0 , 0이 입력되면 1로 출력하는 프로그램 만들자\n",
        "n= int(input('숫자를 입력하세요 (0~1)')) \n",
        "if n == 1:\n",
        "  print(0) \n",
        "else:\n",
        "  print(1)\n"
      ],
      "metadata": {
        "colab": {
          "base_uri": "https://localhost:8080/"
        },
        "id": "O6N21rInC_sm",
        "outputId": "808c9922-77ad-4e27-a9e2-69d3104482ec"
      },
      "execution_count": null,
      "outputs": [
        {
          "output_type": "stream",
          "name": "stdout",
          "text": [
            "숫자를 입력하세요 (0~1)1\n",
            "0\n"
          ]
        }
      ]
    },
    {
      "cell_type": "code",
      "source": [
        "#for 문과 배열을 섞어보자... \n",
        "#배열 = list 변수의 집합\n",
        "#그럼 어떻게 안에 있는 자료를 접근할 수 있을끼?? => 주소\n",
        "lt = [] #빈 리스트를 만들기\n",
        "#리스트 관련된 명령어 알기\n",
        "# lt. 점을 찍으면 사용할 수 있는 명령어가 나옴\n",
        "lt.append(1)\n",
        "lt.insert(1 , 5) # (번지, 추가할 값) . insert 2번째에 5를 넣어라 (리스트) 그러면 [1, 5, 10]이 출력됨 [1, 10]에서\n",
        "lt.append(10)\n",
        "lt.insert(0 , 20) # 1번째에 20을 넣어라 (0부터 시작) \n",
        "lt.remove(1) # 리스트에 있는 숫자 변수를 삭제하는 명령어 remove 주소 번지만 이용해서 삭제\n",
        "# lt.index(2)  index 리스트에 있는 숫자 3번째에 있는 것을 출력한다.\n",
        "\n",
        "\n",
        "print(lt)"
      ],
      "metadata": {
        "colab": {
          "base_uri": "https://localhost:8080/"
        },
        "id": "Zagp6Ev9GZiX",
        "outputId": "2f2af41c-d867-453a-e8f0-f96e63df32e4"
      },
      "execution_count": 21,
      "outputs": [
        {
          "output_type": "stream",
          "name": "stdout",
          "text": [
            "[20, 5, 10]\n"
          ]
        }
      ]
    },
    {
      "cell_type": "code",
      "source": [
        "#[0 , 10 , 20 , 30 , 40 ... 1000] 인 배열 만들자.\n",
        "lt = []\n",
        "#for 변수 in 범위(리스트를 써도 되고 , range()이용 )\n",
        "for i in range(0 , 1001 , 10):\n",
        "  lt.append(i)\n",
        "print(lt)"
      ],
      "metadata": {
        "colab": {
          "base_uri": "https://localhost:8080/"
        },
        "id": "UcnPztwDIMuG",
        "outputId": "753dea7b-82c8-4c72-8f56-dee8cdee341e"
      },
      "execution_count": null,
      "outputs": [
        {
          "output_type": "stream",
          "name": "stdout",
          "text": [
            "[0, 10, 20, 30, 40, 50, 60, 70, 80, 90, 100, 110, 120, 130, 140, 150, 160, 170, 180, 190, 200, 210, 220, 230, 240, 250, 260, 270, 280, 290, 300, 310, 320, 330, 340, 350, 360, 370, 380, 390, 400, 410, 420, 430, 440, 450, 460, 470, 480, 490, 500, 510, 520, 530, 540, 550, 560, 570, 580, 590, 600, 610, 620, 630, 640, 650, 660, 670, 680, 690, 700, 710, 720, 730, 740, 750, 760, 770, 780, 790, 800, 810, 820, 830, 840, 850, 860, 870, 880, 890, 900, 910, 920, 930, 940, 950, 960, 970, 980, 990, 1000]\n"
          ]
        }
      ]
    },
    {
      "cell_type": "code",
      "source": [
        "lt = []\n",
        "\n",
        "for i in range(0, 901 , 9):\n",
        "  lt.append(i)\n",
        "print(lt)\n",
        "\n",
        "str = \"hello world\" # 문자열도 리스트로 다룰 수 있음 \n",
        "print(str[6])"
      ],
      "metadata": {
        "colab": {
          "base_uri": "https://localhost:8080/"
        },
        "id": "2C1nICRtKRqm",
        "outputId": "b718053e-8139-41e8-88a2-bee37b1283d1"
      },
      "execution_count": 22,
      "outputs": [
        {
          "output_type": "stream",
          "name": "stdout",
          "text": [
            "[0, 9, 18, 27, 36, 45, 54, 63, 72, 81, 90, 99, 108, 117, 126, 135, 144, 153, 162, 171, 180, 189, 198, 207, 216, 225, 234, 243, 252, 261, 270, 279, 288, 297, 306, 315, 324, 333, 342, 351, 360, 369, 378, 387, 396, 405, 414, 423, 432, 441, 450, 459, 468, 477, 486, 495, 504, 513, 522, 531, 540, 549, 558, 567, 576, 585, 594, 603, 612, 621, 630, 639, 648, 657, 666, 675, 684, 693, 702, 711, 720, 729, 738, 747, 756, 765, 774, 783, 792, 801, 810, 819, 828, 837, 846, 855, 864, 873, 882, 891, 900]\n",
            "w\n"
          ]
        }
      ]
    },
    {
      "cell_type": "code",
      "source": [
        "#리스트에서 index를 쓰지 않고 해당 위치 변환\n",
        "\n",
        "a = [1,2,3,4,4,4,7]  #크기고정\n",
        "size = len(a)  #a 배열의 길이  ,  a.length 아님(자바에서 이렇게)... \n",
        "find = 5\n",
        "\n",
        "#for문을 이용  => a의 크기 만큼 반복검사\n",
        "for k in range(size):\n",
        "  #a[k]야 find를 같음?\n",
        "  if a[k] == find:\n",
        "    print(k)\n",
        "    break\n",
        "\n",
        "\n",
        "\n",
        "#a에서 쓸수 있는 기능\n",
        "#pos = a.index(4)  #4의 위치는?\n",
        "#print(pos)\n",
        "\n",
        "\n",
        "###결과###\n",
        "# 4입력 =>   3(번지)출력    \n",
        "\n",
        "str = 'hello world' #문자열도 리스트로 다룰 수 있음\n",
        "print(str[6])\n",
        "print(str.index('w'))\n",
        "#문자열에서는 find 명령어도 사용할 수 있음\n",
        "print(str.find('w'))\n",
        "#find는 찾지 못하면 오류대신 -1을 출력\n",
        "print(str.find('T'))  "
      ],
      "metadata": {
        "colab": {
          "base_uri": "https://localhost:8080/"
        },
        "id": "XCM_OWQAKjXl",
        "outputId": "e64ba260-914f-4211-dccc-a2eb40ff37eb"
      },
      "execution_count": null,
      "outputs": [
        {
          "output_type": "stream",
          "name": "stdout",
          "text": [
            "1\n",
            "3\n"
          ]
        }
      ]
    },
    {
      "cell_type": "code",
      "source": [
        "#마지막부터 값 찾기\n",
        "#hint  range의 활용\n",
        "\n",
        "a = [0,1,2,3,4,5,6,7,8,9]\n",
        "size = len(a)\n",
        "find = int(input())\n",
        "#range(5) 0~4까지\n",
        "#range(1,5) 1~4까지\n",
        "#range(1,10, 2)  1~9까지 2씩 증가\n",
        "#10부터 1까지 1씩 감소 =>  range(11, 0, -1)\n",
        "# for k in range(size-1, -1 , -1):\n",
        "#   if a[k] == find:\n",
        "#     print(k)\n",
        "#     break\n",
        "\n",
        "\n",
        "for k in range(size):\n",
        "  #0 번지 => 9만들기\n",
        "  pos = size - 1 - k  #k=0일때 10-1-k=>9-0 = 9번지 찾기\n",
        "  if a[pos] == find:\n",
        "    print(pos)\n",
        "    break\n"
      ],
      "metadata": {
        "id": "mHtAMUUyHX2j"
      },
      "execution_count": null,
      "outputs": []
    },
    {
      "cell_type": "code",
      "source": [
        "#n = [1,3,5,76,8,3,1,2,3,54]\n",
        "n = ['jan', 'feb', 'mar', 'apr', 'may', 'june', 'july']\n",
        "\n",
        "#range(10) =  [0,1,2,3,4,5,6,7,8,9]\n",
        "for k  in n:  #in 다음에는  range만 가능한게 아님. 범위를 가지고 있는것\n",
        "  print(k)\n"
      ],
      "metadata": {
        "id": "DJOL-AYSHbbc"
      },
      "execution_count": null,
      "outputs": []
    },
    {
      "cell_type": "code",
      "source": [
        "#반복문\n",
        "\n",
        "# 조건이 참인 동안 반복\n",
        "k = 0\n",
        "while k < 5:\n",
        "  print(k)\n",
        "  k = k+1\n",
        "\n",
        "print('byebye')\n",
        "print(k)"
      ],
      "metadata": {
        "id": "UYDxZyUPHeCs"
      },
      "execution_count": null,
      "outputs": []
    },
    {
      "cell_type": "code",
      "source": [
        "#패스워드를 검사하자. 비번이 맞을 때 까지 반복\n",
        "\n",
        "\n",
        "pw = '1234'  #문자 1234\n",
        "my = input('패스워드를 입력하세요')\n",
        "\n",
        "#비번이 틀렸을 때 반복   pw  my 같지 않을때\n",
        "while pw != my:  #!는 부정의 의미\n",
        "  my = input('패스워드를 입력하세요')\n",
        "\n",
        "print('welcome')"
      ],
      "metadata": {
        "id": "oWF9up3XHf8G"
      },
      "execution_count": null,
      "outputs": []
    },
    {
      "cell_type": "code",
      "source": [
        "pw = '1234'\n",
        "\n",
        "#무조건 반복하다가 조건이 맞으면 탈출(break)\n",
        "#파이썬에는 do-while문이 없음...\n",
        "#True는 참을 뜻함  False은 거짓 => 대소문자 주의\n",
        "while True  :\n",
        "  my = input('비번입력')\n",
        "  if my == pw:\n",
        "    break"
      ],
      "metadata": {
        "id": "MXW8k34XHiJ8"
      },
      "execution_count": null,
      "outputs": []
    },
    {
      "cell_type": "code",
      "source": [
        "# 문제 1134번\n",
        "\n",
        "target = input(\"찾을 글자를 입력하세요\") #KTX\n",
        "src = input(\"문자열을 입력하세요\") #KINTEX\n",
        "t_pos = 0\n",
        "for s in src:\n",
        "  #KINTEX의 K == KTX[0]인 K 같은지 비교 \n",
        "  if s == target[t_pos]:\n",
        "    #만약 글자를 찾으면 target의 다음 글자 \n",
        "    t_pos = t_pos + 1\n",
        "    \n",
        "    if len(target) == t_pos:\n",
        "      print('Y')\n",
        "      break\n",
        "    else:\n",
        "      print('N')\n",
        "    \n",
        "print('끝')\n",
        "  \n"
      ],
      "metadata": {
        "colab": {
          "base_uri": "https://localhost:8080/"
        },
        "id": "AomttIYGHknM",
        "outputId": "c42293d9-3765-40bb-914e-97a795faf1d8"
      },
      "execution_count": null,
      "outputs": [
        {
          "output_type": "stream",
          "name": "stdout",
          "text": [
            "찾을 글자를 입력하세요KTX\n",
            "문자열을 입력하세요XTWDWK\n",
            "N\n",
            "끝\n"
          ]
        }
      ]
    },
    {
      "cell_type": "markdown",
      "source": [
        " 여태까지 배웠던 파이썬 개념 정리 \n",
        "값을 보관하기 \n",
        "- 변수를 사용\n",
        "  a = 1 <= 오른쪽에서 왼쪽으로 복사\n",
        " - 저장되는 것에 종류가 있을까? = 자료형(숫자,문자, 참/거짓) , 자료의 형태를 지정하지 않음\n",
        "-만약 ,24명의 학생을 보관하려고 함, 변수가 몇개 필요하지? => 24개 필요 => 너무 많음 => 한번에 관리할 수 없을까?\n",
        "   -리스트 : 변수들의 집합, 모임 (리스트(배열)) , 튜플, 딕셔너리, 집합)\n",
        "  -사용법 : 주소가 있음(0번지부터 시작)\n",
        " -a[0] = 1 a리스트의 0번지에 1을 저장 \n",
        "- 번지에 꼭 숫자가 들어가야 할까? => 아니다. => 변수가 들어갈 수 있음(숫자인 변수)\n",
        "- arr = 1 , it[arr] = 1 It 리스트의 1번지에 1이 들어감 lt[1]\n",
        "- 리스트의 크기는 변함. 항목을 추가할 수도 있고, 뺄 수도 있음 \n",
        "기능을 사용하기\n",
        "  - 파이썬에서 만든 기능을 사용\n",
        "  - 명령어() 의 형태\n",
        "  - print() , append() , len() , input() , int() // print , print() 는 다른말 \n",
        "  - 기능을 만들어서 사용할 수 있음. def: \n",
        "문법 \n",
        " - 반복문 : 같은 작업을 여러번 반복시키는 명령\n",
        "    - for : 일정 범위 만큼 반복\n",
        "            -예) 10번 반복해 X => 0~9만큼 반복해\n",
        "            for 사용할 변수 in range(10) # 사용할 변수에 0~9까지 적용\n",
        "            - range() 의 활용 ( 끝 수가 그 전까지 반복함 ) \n",
        "            - range(10) : 0~9 , range (5,10) : 5~9 , range(3,10,2) : 3~9 , 2씩 증가\n",
        "            - range(10 , -1 , -1) \n",
        "            - 들여쓰기 조심!! \n",
        "    - while : 조건이 참일 동안 계속 반복 \n",
        "    \n",
        "     "
      ],
      "metadata": {
        "id": "U3m2d4SuwWjZ"
      }
    },
    {
      "cell_type": "code",
      "source": [
        "for i in range(10 , 0-1 , -1):\n",
        "  print(i)"
      ],
      "metadata": {
        "colab": {
          "base_uri": "https://localhost:8080/"
        },
        "id": "xSlQnNls19H6",
        "outputId": "cec0915b-274e-4210-a3a4-d573d629b336"
      },
      "execution_count": 12,
      "outputs": [
        {
          "output_type": "stream",
          "name": "stdout",
          "text": [
            "10\n",
            "9\n",
            "8\n",
            "7\n",
            "6\n",
            "5\n",
            "4\n",
            "3\n",
            "2\n",
            "1\n",
            "0\n"
          ]
        }
      ]
    },
    {
      "cell_type": "code",
      "source": [
        "#리스트와 for를 사용해보자.\n",
        "#리스트를 만드는데 [0,1,2,3,4] 가 보관된 리스트 만들기\n",
        "lt = [] # 아무것도 없는 리스트 .append 를 이용해 추가 \n",
        "size = int(input(\"크기를 입력하세요\"))\n",
        "for i in range(0 , size+1):\n",
        "  # 들여쓰기 조심 \n",
        "  lt.append(i)\n",
        "print(lt)\n"
      ],
      "metadata": {
        "colab": {
          "base_uri": "https://localhost:8080/"
        },
        "id": "E8yloPe35fA3",
        "outputId": "25c5aa0c-de14-4156-85aa-7472c65a964f"
      },
      "execution_count": 17,
      "outputs": [
        {
          "output_type": "stream",
          "name": "stdout",
          "text": [
            "크기를 입력하세요199\n",
            "[0, 1, 2, 3, 4, 5, 6, 7, 8, 9, 10, 11, 12, 13, 14, 15, 16, 17, 18, 19, 20, 21, 22, 23, 24, 25, 26, 27, 28, 29, 30, 31, 32, 33, 34, 35, 36, 37, 38, 39, 40, 41, 42, 43, 44, 45, 46, 47, 48, 49, 50, 51, 52, 53, 54, 55, 56, 57, 58, 59, 60, 61, 62, 63, 64, 65, 66, 67, 68, 69, 70, 71, 72, 73, 74, 75, 76, 77, 78, 79, 80, 81, 82, 83, 84, 85, 86, 87, 88, 89, 90, 91, 92, 93, 94, 95, 96, 97, 98, 99, 100, 101, 102, 103, 104, 105, 106, 107, 108, 109, 110, 111, 112, 113, 114, 115, 116, 117, 118, 119, 120, 121, 122, 123, 124, 125, 126, 127, 128, 129, 130, 131, 132, 133, 134, 135, 136, 137, 138, 139, 140, 141, 142, 143, 144, 145, 146, 147, 148, 149, 150, 151, 152, 153, 154, 155, 156, 157, 158, 159, 160, 161, 162, 163, 164, 165, 166, 167, 168, 169, 170, 171, 172, 173, 174, 175, 176, 177, 178, 179, 180, 181, 182, 183, 184, 185, 186, 187, 188, 189, 190, 191, 192, 193, 194, 195, 196, 197, 198, 199]\n"
          ]
        }
      ]
    }
  ],
  "metadata": {
    "colab": {
      "provenance": [],
      "authorship_tag": "ABX9TyOFIoAra+Avy80Xra1m72Tp",
      "include_colab_link": true
    },
    "kernelspec": {
      "display_name": "Python 3",
      "name": "python3"
    },
    "language_info": {
      "name": "python"
    }
  },
  "nbformat": 4,
  "nbformat_minor": 0
}